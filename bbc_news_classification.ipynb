{
 "cells": [
  {
   "cell_type": "markdown",
   "id": "24d18042",
   "metadata": {},
   "source": [
    "# Классификация текстов BBC по уровню сложности\n",
    "Цель: построить систему определения уровня сложности текстового сообщения (Easy / Medium / Hard) на основе корпуса BBC."
   ]
  },
  {
   "cell_type": "markdown",
   "id": "195a106a",
   "metadata": {},
   "source": [
    "## План\n",
    "1. Изучить датасет: покрытие, структура, показатели читаемости.\n",
    "2. Выделить классы сложности по метрике Flesch, оценить баланс классов.\n",
    "3. Провести предобработку текста, добавить числовые признаки читаемости.\n",
    "4. Обучить классические модели (LogReg, Linear SVM, Multinomial NB) и ансамбль.\n",
    "5. Проанализировать ошибки и показать генерацию аудиоданных через TTS для расширения корпуса."
   ]
  },
  {
   "cell_type": "code",
   "execution_count": 1,
   "id": "d9e2ac0d",
   "metadata": {
    "execution": {
     "iopub.execute_input": "2025-10-05T16:39:39.894114Z",
     "iopub.status.busy": "2025-10-05T16:39:39.893687Z",
     "iopub.status.idle": "2025-10-05T16:39:41.774021Z",
     "shell.execute_reply": "2025-10-05T16:39:41.773599Z"
    }
   },
   "outputs": [],
   "source": [
    "import subprocess\n",
    "from pathlib import Path\n",
    "\n",
    "import numpy as np\n",
    "import pandas as pd\n",
    "import seaborn as sns\n",
    "import matplotlib.pyplot as plt\n",
    "\n",
    "from sklearn.model_selection import train_test_split\n",
    "from sklearn.pipeline import Pipeline\n",
    "from sklearn.compose import ColumnTransformer\n",
    "from sklearn.metrics import accuracy_score, classification_report, confusion_matrix\n",
    "from sklearn.linear_model import LogisticRegression\n",
    "from sklearn.svm import SVC, LinearSVC\n",
    "from sklearn.naive_bayes import MultinomialNB\n",
    "from sklearn.preprocessing import MaxAbsScaler\n",
    "from sklearn.feature_extraction.text import TfidfVectorizer\n",
    "from sklearn.base import clone\n",
    "\n",
    "plt.style.use('seaborn-v0_8-whitegrid')\n",
    "SEED = 42\n",
    "rng = np.random.default_rng(SEED)\n",
    "from sklearn.calibration import CalibratedClassifierCV"
   ]
  },
  {
   "cell_type": "code",
   "execution_count": 2,
   "id": "892d5fc4",
   "metadata": {
    "execution": {
     "iopub.execute_input": "2025-10-05T16:39:41.777759Z",
     "iopub.status.busy": "2025-10-05T16:39:41.777532Z",
     "iopub.status.idle": "2025-10-05T16:39:41.886323Z",
     "shell.execute_reply": "2025-10-05T16:39:41.885947Z"
    }
   },
   "outputs": [
    {
     "data": {
      "text/html": [
       "<div>\n",
       "<style scoped>\n",
       "    .dataframe tbody tr th:only-of-type {\n",
       "        vertical-align: middle;\n",
       "    }\n",
       "\n",
       "    .dataframe tbody tr th {\n",
       "        vertical-align: top;\n",
       "    }\n",
       "\n",
       "    .dataframe thead th {\n",
       "        text-align: right;\n",
       "    }\n",
       "</style>\n",
       "<table border=\"1\" class=\"dataframe\">\n",
       "  <thead>\n",
       "    <tr style=\"text-align: right;\">\n",
       "      <th></th>\n",
       "      <th>text</th>\n",
       "      <th>labels</th>\n",
       "      <th>no_sentences</th>\n",
       "      <th>Flesch Reading Ease Score</th>\n",
       "      <th>Dale-Chall Readability Score</th>\n",
       "      <th>text_rank_summary</th>\n",
       "      <th>lsa_summary</th>\n",
       "    </tr>\n",
       "  </thead>\n",
       "  <tbody>\n",
       "    <tr>\n",
       "      <th>0</th>\n",
       "      <td>Ad sales boost Time Warner profit\\n\\nQuarterly...</td>\n",
       "      <td>business</td>\n",
       "      <td>26</td>\n",
       "      <td>62.17</td>\n",
       "      <td>9.72</td>\n",
       "      <td>It hopes to increase subscribers by offering t...</td>\n",
       "      <td>Its profits were buoyed by one-off gains which...</td>\n",
       "    </tr>\n",
       "    <tr>\n",
       "      <th>1</th>\n",
       "      <td>Dollar gains on Greenspan speech\\n\\nThe dollar...</td>\n",
       "      <td>business</td>\n",
       "      <td>17</td>\n",
       "      <td>65.56</td>\n",
       "      <td>9.09</td>\n",
       "      <td>The dollar has hit its highest level against t...</td>\n",
       "      <td>\"I think the chairman's taking a much more san...</td>\n",
       "    </tr>\n",
       "    <tr>\n",
       "      <th>2</th>\n",
       "      <td>Yukos unit buyer faces loan claim\\n\\nThe owner...</td>\n",
       "      <td>business</td>\n",
       "      <td>14</td>\n",
       "      <td>69.21</td>\n",
       "      <td>9.66</td>\n",
       "      <td>The owners of embattled Russian oil giant Yuko...</td>\n",
       "      <td>Yukos' owner Menatep Group says it will ask Ro...</td>\n",
       "    </tr>\n",
       "    <tr>\n",
       "      <th>3</th>\n",
       "      <td>High fuel prices hit BA's profits\\n\\nBritish A...</td>\n",
       "      <td>business</td>\n",
       "      <td>24</td>\n",
       "      <td>62.98</td>\n",
       "      <td>9.86</td>\n",
       "      <td>Looking ahead to its full year results to Marc...</td>\n",
       "      <td>Rod Eddington, BA's chief executive, said the ...</td>\n",
       "    </tr>\n",
       "    <tr>\n",
       "      <th>4</th>\n",
       "      <td>Pernod takeover talk lifts Domecq\\n\\nShares in...</td>\n",
       "      <td>business</td>\n",
       "      <td>17</td>\n",
       "      <td>70.63</td>\n",
       "      <td>10.23</td>\n",
       "      <td>Reports in the Wall Street Journal and the Fin...</td>\n",
       "      <td>Shares in UK drinks and food firm Allied Domec...</td>\n",
       "    </tr>\n",
       "  </tbody>\n",
       "</table>\n",
       "</div>"
      ],
      "text/plain": [
       "                                                text    labels  no_sentences  \\\n",
       "0  Ad sales boost Time Warner profit\\n\\nQuarterly...  business            26   \n",
       "1  Dollar gains on Greenspan speech\\n\\nThe dollar...  business            17   \n",
       "2  Yukos unit buyer faces loan claim\\n\\nThe owner...  business            14   \n",
       "3  High fuel prices hit BA's profits\\n\\nBritish A...  business            24   \n",
       "4  Pernod takeover talk lifts Domecq\\n\\nShares in...  business            17   \n",
       "\n",
       "   Flesch Reading Ease Score  Dale-Chall Readability Score  \\\n",
       "0                      62.17                          9.72   \n",
       "1                      65.56                          9.09   \n",
       "2                      69.21                          9.66   \n",
       "3                      62.98                          9.86   \n",
       "4                      70.63                         10.23   \n",
       "\n",
       "                                   text_rank_summary  \\\n",
       "0  It hopes to increase subscribers by offering t...   \n",
       "1  The dollar has hit its highest level against t...   \n",
       "2  The owners of embattled Russian oil giant Yuko...   \n",
       "3  Looking ahead to its full year results to Marc...   \n",
       "4  Reports in the Wall Street Journal and the Fin...   \n",
       "\n",
       "                                         lsa_summary  \n",
       "0  Its profits were buoyed by one-off gains which...  \n",
       "1  \"I think the chairman's taking a much more san...  \n",
       "2  Yukos' owner Menatep Group says it will ask Ro...  \n",
       "3  Rod Eddington, BA's chief executive, said the ...  \n",
       "4  Shares in UK drinks and food firm Allied Domec...  "
      ]
     },
     "execution_count": 2,
     "metadata": {},
     "output_type": "execute_result"
    }
   ],
   "source": [
    "DATA_PATH = Path('bbc_news_text_complexity_summarization.csv')\n",
    "df = pd.read_csv(DATA_PATH)\n",
    "df.head()"
   ]
  },
  {
   "cell_type": "code",
   "execution_count": 3,
   "id": "24be8f9a",
   "metadata": {
    "execution": {
     "iopub.execute_input": "2025-10-05T16:39:41.888824Z",
     "iopub.status.busy": "2025-10-05T16:39:41.888685Z",
     "iopub.status.idle": "2025-10-05T16:39:41.955999Z",
     "shell.execute_reply": "2025-10-05T16:39:41.955657Z"
    }
   },
   "outputs": [
    {
     "name": "stdout",
     "output_type": "stream",
     "text": [
      "Количество текстов: 2,127\n",
      "Доступные тематики: ['business', 'entertainment', 'politics', 'sport', 'tech']\n",
      "Столбцы набора данных:\n",
      "text                             object\n",
      "labels                           object\n",
      "no_sentences                      int64\n",
      "Flesch Reading Ease Score       float64\n",
      "Dale-Chall Readability Score    float64\n",
      "text_rank_summary                object\n",
      "lsa_summary                      object\n",
      "dtype: object\n",
      "\n",
      "Длина текста (символы):\n",
      "count     2127.000000\n",
      "mean      2263.977903\n",
      "std       1381.679684\n",
      "min        502.000000\n",
      "10%       1118.600000\n",
      "50%       1958.000000\n",
      "90%       3628.800000\n",
      "max      25484.000000\n",
      "Name: text, dtype: float64\n",
      "\n",
      "Длина текста (слова):\n",
      "count    2127.000000\n",
      "mean      384.112835\n",
      "std       241.399741\n",
      "min        89.000000\n",
      "10%       189.000000\n",
      "50%       331.000000\n",
      "90%       615.400000\n",
      "max      4432.000000\n",
      "Name: text, dtype: float64\n",
      "\n",
      "Flesch Reading Ease Score:\n",
      "count    2127.000000\n",
      "mean       63.645548\n",
      "std         8.466323\n",
      "min        33.410000\n",
      "25%        58.210000\n",
      "50%        63.430000\n",
      "75%        69.310000\n",
      "max        87.760000\n",
      "Name: Flesch Reading Ease Score, dtype: float64\n",
      "\n",
      "Dale-Chall Readability Score:\n",
      "count    2127.000000\n",
      "mean        9.145581\n",
      "std         0.823067\n",
      "min         6.400000\n",
      "25%         8.630000\n",
      "50%         9.130000\n",
      "75%         9.650000\n",
      "max        14.200000\n",
      "Name: Dale-Chall Readability Score, dtype: float64\n",
      "\n",
      "Пропуски по признакам:\n",
      "text                            0.0\n",
      "labels                          0.0\n",
      "no_sentences                    0.0\n",
      "Flesch Reading Ease Score       0.0\n",
      "Dale-Chall Readability Score    0.0\n",
      "text_rank_summary               0.0\n",
      "lsa_summary                     0.0\n",
      "dtype: float64\n"
     ]
    }
   ],
   "source": [
    "print(f\"Количество текстов: {len(df):,}\")\n",
    "print(f\"Доступные тематики: {sorted(df['labels'].unique())}\")\n",
    "print('Столбцы набора данных:')\n",
    "print(df.dtypes)\n",
    "\n",
    "length_stats = df['text'].str.len().describe(percentiles=[0.1, 0.5, 0.9])\n",
    "word_stats = df['text'].str.split().str.len().describe(percentiles=[0.1, 0.5, 0.9])\n",
    "flesch_stats = df['Flesch Reading Ease Score'].describe()\n",
    "dale_stats = df['Dale-Chall Readability Score'].describe()\n",
    "\n",
    "print()\n",
    "print('Длина текста (символы):')\n",
    "print(length_stats)\n",
    "print()\n",
    "print('Длина текста (слова):')\n",
    "print(word_stats)\n",
    "print()\n",
    "print('Flesch Reading Ease Score:')\n",
    "print(flesch_stats)\n",
    "print()\n",
    "print('Dale-Chall Readability Score:')\n",
    "print(dale_stats)\n",
    "\n",
    "missing = df.isna().mean().sort_values(ascending=False)\n",
    "print()\n",
    "print('Пропуски по признакам:')\n",
    "print(missing)"
   ]
  },
  {
   "cell_type": "code",
   "execution_count": 4,
   "id": "9d94d237",
   "metadata": {
    "execution": {
     "iopub.execute_input": "2025-10-05T16:39:41.957820Z",
     "iopub.status.busy": "2025-10-05T16:39:41.957694Z",
     "iopub.status.idle": "2025-10-05T16:39:41.960949Z",
     "shell.execute_reply": "2025-10-05T16:39:41.960583Z"
    }
   },
   "outputs": [
    {
     "name": "stdout",
     "output_type": "stream",
     "text": [
      "Порог Easy (>= 67.59), Hard (< 59.81), Medium -- между порогами.\n"
     ]
    }
   ],
   "source": [
    "quantiles = df['Flesch Reading Ease Score'].quantile([1/3, 2/3]).to_dict()\n",
    "q1 = quantiles[1/3]\n",
    "q2 = quantiles[2/3]\n",
    "print(f\"Порог Easy (>= {q2:.2f}), Hard (< {q1:.2f}), Medium -- между порогами.\")"
   ]
  },
  {
   "cell_type": "code",
   "execution_count": 5,
   "id": "7c298257",
   "metadata": {
    "execution": {
     "iopub.execute_input": "2025-10-05T16:39:41.962761Z",
     "iopub.status.busy": "2025-10-05T16:39:41.962654Z",
     "iopub.status.idle": "2025-10-05T16:39:41.967896Z",
     "shell.execute_reply": "2025-10-05T16:39:41.967572Z"
    }
   },
   "outputs": [
    {
     "data": {
      "text/plain": [
       "Easy      720\n",
       "Hard      709\n",
       "Medium    698\n",
       "Name: complexity, dtype: int64"
      ]
     },
     "execution_count": 5,
     "metadata": {},
     "output_type": "execute_result"
    }
   ],
   "source": [
    "def map_complexity(flesch: float) -> str:\n",
    "    if flesch >= q2:\n",
    "        return 'Easy'\n",
    "    if flesch < q1:\n",
    "        return 'Hard'\n",
    "    return 'Medium'\n",
    "\n",
    "df['complexity'] = df['Flesch Reading Ease Score'].apply(map_complexity)\n",
    "df['complexity'].value_counts()"
   ]
  },
  {
   "cell_type": "code",
   "execution_count": 6,
   "id": "365cc9a3",
   "metadata": {
    "execution": {
     "iopub.execute_input": "2025-10-05T16:39:41.969691Z",
     "iopub.status.busy": "2025-10-05T16:39:41.969551Z",
     "iopub.status.idle": "2025-10-05T16:39:42.093639Z",
     "shell.execute_reply": "2025-10-05T16:39:42.092999Z"
    }
   },
   "outputs": [
    {
     "data": {
      "image/png": "[encoded data removed]",
      "text/plain": [
       "<Figure size 600x400 with 1 Axes>"
      ]
     },
     "metadata": {},
     "output_type": "display_data"
    }
   ],
   "source": [
    "fig, ax = plt.subplots(figsize=(6, 4))\n",
    "sns.countplot(x='complexity', data=df, order=['Easy', 'Medium', 'Hard'], palette='crest', ax=ax)\n",
    "ax.set_title('Распределение уровней сложности')\n",
    "ax.bar_label(ax.containers[0])\n",
    "plt.tight_layout()\n",
    "plt.show()"
   ]
  },
  {
   "cell_type": "markdown",
   "id": "197e8841",
   "metadata": {},
   "source": [
    "### Выводы по датасету\n",
    "- Покрытие: 2127 статей BBC, каждая снабжена текстом, суммаризациями и метриками читаемости.\n",
    "- Качество: пропусков нет, спектр Flesch от отрицательных значений до 100, что охватывает широкий диапазон уровней сложности.\n",
    "- Классы сложности (по Flesch) распределены примерно равными долями, что удобно для обучения.\n",
    "- Дополнительные признаки (количество предложений, суммаризации) можно использовать для гибридных решений."
   ]
  },
  {
   "cell_type": "code",
   "execution_count": 7,
   "id": "a2b8b83f",
   "metadata": {
    "execution": {
     "iopub.execute_input": "2025-10-05T16:39:42.096127Z",
     "iopub.status.busy": "2025-10-05T16:39:42.095954Z",
     "iopub.status.idle": "2025-10-05T16:39:42.913506Z",
     "shell.execute_reply": "2025-10-05T16:39:42.913116Z"
    }
   },
   "outputs": [
    {
     "data": {
      "text/html": [
       "<div>\n",
       "<style scoped>\n",
       "    .dataframe tbody tr th:only-of-type {\n",
       "        vertical-align: middle;\n",
       "    }\n",
       "\n",
       "    .dataframe tbody tr th {\n",
       "        vertical-align: top;\n",
       "    }\n",
       "\n",
       "    .dataframe thead th {\n",
       "        text-align: right;\n",
       "    }\n",
       "</style>\n",
       "<table border=\"1\" class=\"dataframe\">\n",
       "  <thead>\n",
       "    <tr style=\"text-align: right;\">\n",
       "      <th></th>\n",
       "      <th>text</th>\n",
       "      <th>clean_text</th>\n",
       "      <th>summary_clean</th>\n",
       "      <th>combined_text</th>\n",
       "      <th>word_count</th>\n",
       "      <th>avg_sentence_length</th>\n",
       "      <th>avg_word_length</th>\n",
       "      <th>Flesch Reading Ease Score</th>\n",
       "      <th>Dale-Chall Readability Score</th>\n",
       "      <th>complexity</th>\n",
       "    </tr>\n",
       "  </thead>\n",
       "  <tbody>\n",
       "    <tr>\n",
       "      <th>0</th>\n",
       "      <td>Ad sales boost Time Warner profit\\n\\nQuarterly...</td>\n",
       "      <td>ad sales boost time warner profit quarterly pr...</td>\n",
       "      <td>it hopes to increase subscribers by offering t...</td>\n",
       "      <td>ad sales boost time warner profit quarterly pr...</td>\n",
       "      <td>421</td>\n",
       "      <td>16.192308</td>\n",
       "      <td>4.707838</td>\n",
       "      <td>62.17</td>\n",
       "      <td>9.72</td>\n",
       "      <td>Medium</td>\n",
       "    </tr>\n",
       "    <tr>\n",
       "      <th>1</th>\n",
       "      <td>Dollar gains on Greenspan speech\\n\\nThe dollar...</td>\n",
       "      <td>dollar gains on greenspan speech the dollar ha...</td>\n",
       "      <td>the dollar has hit its highest level against t...</td>\n",
       "      <td>dollar gains on greenspan speech the dollar ha...</td>\n",
       "      <td>393</td>\n",
       "      <td>23.117647</td>\n",
       "      <td>4.567430</td>\n",
       "      <td>65.56</td>\n",
       "      <td>9.09</td>\n",
       "      <td>Medium</td>\n",
       "    </tr>\n",
       "    <tr>\n",
       "      <th>2</th>\n",
       "      <td>Yukos unit buyer faces loan claim\\n\\nThe owner...</td>\n",
       "      <td>yukos unit buyer faces loan claim the owners o...</td>\n",
       "      <td>the owners of embattled russian oil giant yuko...</td>\n",
       "      <td>yukos unit buyer faces loan claim the owners o...</td>\n",
       "      <td>269</td>\n",
       "      <td>19.214286</td>\n",
       "      <td>4.587361</td>\n",
       "      <td>69.21</td>\n",
       "      <td>9.66</td>\n",
       "      <td>Easy</td>\n",
       "    </tr>\n",
       "    <tr>\n",
       "      <th>3</th>\n",
       "      <td>High fuel prices hit BA's profits\\n\\nBritish A...</td>\n",
       "      <td>high fuel prices hit ba s profits british airw...</td>\n",
       "      <td>looking ahead to its full year results to marc...</td>\n",
       "      <td>high fuel prices hit ba s profits british airw...</td>\n",
       "      <td>395</td>\n",
       "      <td>16.458333</td>\n",
       "      <td>4.600000</td>\n",
       "      <td>62.98</td>\n",
       "      <td>9.86</td>\n",
       "      <td>Medium</td>\n",
       "    </tr>\n",
       "    <tr>\n",
       "      <th>4</th>\n",
       "      <td>Pernod takeover talk lifts Domecq\\n\\nShares in...</td>\n",
       "      <td>pernod takeover talk lifts domecq shares in uk...</td>\n",
       "      <td>reports in the wall street journal and the fin...</td>\n",
       "      <td>pernod takeover talk lifts domecq shares in uk...</td>\n",
       "      <td>266</td>\n",
       "      <td>15.647059</td>\n",
       "      <td>4.590226</td>\n",
       "      <td>70.63</td>\n",
       "      <td>10.23</td>\n",
       "      <td>Easy</td>\n",
       "    </tr>\n",
       "  </tbody>\n",
       "</table>\n",
       "</div>"
      ],
      "text/plain": [
       "                                                text  \\\n",
       "0  Ad sales boost Time Warner profit\\n\\nQuarterly...   \n",
       "1  Dollar gains on Greenspan speech\\n\\nThe dollar...   \n",
       "2  Yukos unit buyer faces loan claim\\n\\nThe owner...   \n",
       "3  High fuel prices hit BA's profits\\n\\nBritish A...   \n",
       "4  Pernod takeover talk lifts Domecq\\n\\nShares in...   \n",
       "\n",
       "                                          clean_text  \\\n",
       "0  ad sales boost time warner profit quarterly pr...   \n",
       "1  dollar gains on greenspan speech the dollar ha...   \n",
       "2  yukos unit buyer faces loan claim the owners o...   \n",
       "3  high fuel prices hit ba s profits british airw...   \n",
       "4  pernod takeover talk lifts domecq shares in uk...   \n",
       "\n",
       "                                       summary_clean  \\\n",
       "0  it hopes to increase subscribers by offering t...   \n",
       "1  the dollar has hit its highest level against t...   \n",
       "2  the owners of embattled russian oil giant yuko...   \n",
       "3  looking ahead to its full year results to marc...   \n",
       "4  reports in the wall street journal and the fin...   \n",
       "\n",
       "                                       combined_text  word_count  \\\n",
       "0  ad sales boost time warner profit quarterly pr...         421   \n",
       "1  dollar gains on greenspan speech the dollar ha...         393   \n",
       "2  yukos unit buyer faces loan claim the owners o...         269   \n",
       "3  high fuel prices hit ba s profits british airw...         395   \n",
       "4  pernod takeover talk lifts domecq shares in uk...         266   \n",
       "\n",
       "   avg_sentence_length  avg_word_length  Flesch Reading Ease Score  \\\n",
       "0            16.192308         4.707838                      62.17   \n",
       "1            23.117647         4.567430                      65.56   \n",
       "2            19.214286         4.587361                      69.21   \n",
       "3            16.458333         4.600000                      62.98   \n",
       "4            15.647059         4.590226                      70.63   \n",
       "\n",
       "   Dale-Chall Readability Score complexity  \n",
       "0                          9.72     Medium  \n",
       "1                          9.09     Medium  \n",
       "2                          9.66       Easy  \n",
       "3                          9.86     Medium  \n",
       "4                         10.23       Easy  "
      ]
     },
     "execution_count": 7,
     "metadata": {},
     "output_type": "execute_result"
    }
   ],
   "source": [
    "import re\n",
    "\n",
    "clean_pattern = re.compile(r'[^a-z\\s]')\n",
    "\n",
    "def normalize_text(text: str) -> str:\n",
    "    text = text.lower().strip()\n",
    "    text = text.replace('\\n', ' ')\n",
    "    text = re.sub(r'\\s+', ' ', text)\n",
    "    text = clean_pattern.sub(' ', text)\n",
    "    text = re.sub(r'\\s+', ' ', text).strip()\n",
    "    return text\n",
    "\n",
    "def compute_word_length(text: str) -> float:\n",
    "    tokens = [token for token in re.findall(r'[a-zA-Z]+', text)]\n",
    "    if not tokens:\n",
    "        return 0.0\n",
    "    return sum(len(token) for token in tokens) / len(tokens)\n",
    "\n",
    "df['clean_text'] = df['text'].apply(normalize_text)\n",
    "df['word_count'] = df['clean_text'].str.split().str.len()\n",
    "df['char_count'] = df['clean_text'].str.len()\n",
    "df['avg_word_length'] = df['text'].apply(compute_word_length)\n",
    "df['avg_sentence_length'] = df['word_count'] / df['no_sentences'].clip(lower=1)\n",
    "\n",
    "\n",
    "df['summary_clean'] = df['text_rank_summary'].fillna('').apply(normalize_text)\n",
    "df['combined_text'] = (df['clean_text'] + ' ' + df['summary_clean']).str.strip()\n",
    "df[['text', 'clean_text', 'summary_clean', 'combined_text', 'word_count', 'avg_sentence_length', 'avg_word_length', 'Flesch Reading Ease Score', 'Dale-Chall Readability Score', 'complexity']].head()"
   ]
  },
  {
   "cell_type": "code",
   "execution_count": 8,
   "id": "9eb56283",
   "metadata": {
    "execution": {
     "iopub.execute_input": "2025-10-05T16:39:42.915545Z",
     "iopub.status.busy": "2025-10-05T16:39:42.915384Z",
     "iopub.status.idle": "2025-10-05T16:39:42.917769Z",
     "shell.execute_reply": "2025-10-05T16:39:42.917423Z"
    }
   },
   "outputs": [],
   "source": [
    "numeric_features = ['no_sentences', 'word_count', 'char_count', 'avg_word_length', 'avg_sentence_length', 'Flesch Reading Ease Score', 'Dale-Chall Readability Score']\n",
    "target_col = 'complexity'\n",
    "text_col = 'clean_text'"
   ]
  },
  {
   "cell_type": "code",
   "execution_count": 9,
   "id": "a5995332",
   "metadata": {
    "execution": {
     "iopub.execute_input": "2025-10-05T16:39:42.919418Z",
     "iopub.status.busy": "2025-10-05T16:39:42.919283Z",
     "iopub.status.idle": "2025-10-05T16:39:42.928334Z",
     "shell.execute_reply": "2025-10-05T16:39:42.928020Z"
    }
   },
   "outputs": [
    {
     "name": "stdout",
     "output_type": "stream",
     "text": [
      "Train/Val/Test размеры: 1360/341/426\n"
     ]
    }
   ],
   "source": [
    "feature_columns = [text_col, 'summary_clean', 'combined_text'] + numeric_features + [target_col, 'text']\n",
    "\n",
    "train_full, test_df = train_test_split(\n",
    "    df[feature_columns],\n",
    "    test_size=0.2,\n",
    "    random_state=SEED,\n",
    "    stratify=df[target_col]\n",
    ")\n",
    "train_df, val_df = train_test_split(\n",
    "    train_full,\n",
    "    test_size=0.2,\n",
    "    random_state=SEED,\n",
    "    stratify=train_full[target_col]\n",
    ")\n",
    "print(f\"Train/Val/Test размеры: {len(train_df)}/{len(val_df)}/{len(test_df)}\")"
   ]
  },
  {
   "cell_type": "code",
   "execution_count": 10,
   "id": "e266f3e9",
   "metadata": {
    "execution": {
     "iopub.execute_input": "2025-10-05T16:39:42.930202Z",
     "iopub.status.busy": "2025-10-05T16:39:42.930058Z",
     "iopub.status.idle": "2025-10-05T16:39:42.933821Z",
     "shell.execute_reply": "2025-10-05T16:39:42.933491Z"
    }
   },
   "outputs": [],
   "source": [
    "text_vectorizer = TfidfVectorizer(\n",
    "    ngram_range=(1, 2),\n",
    "    min_df=1,\n",
    "    max_df=0.98,\n",
    "    stop_words=None,\n",
    "    sublinear_tf=True\n",
    ")\n",
    "numeric_transformer = MaxAbsScaler()\n",
    "column_transformer = ColumnTransformer(\n",
    "    transformers=[\n",
    "        ('text', text_vectorizer, 'combined_text'),\n",
    "        ('numeric', numeric_transformer, numeric_features)\n",
    "    ]\n",
    ")\n",
    "\n",
    "pipelines = {\n",
    "    'LogReg': Pipeline([\n",
    "        ('features', column_transformer),\n",
    "        ('clf', LogisticRegression(max_iter=2000, C=6.0, solver='lbfgs', multi_class='multinomial'))\n",
    "    ]),\n",
    "    'LinearSVM': Pipeline([\n",
    "        ('features', column_transformer),\n",
    "        ('clf', SVC(kernel='linear', C=6.0, probability=True, random_state=SEED))\n",
    "    ]),\n",
    "    'MultinomialNB': Pipeline([\n",
    "        ('tfidf', TfidfVectorizer(\n",
    "            ngram_range=(1, 2),\n",
    "            min_df=1,\n",
    "            max_df=0.98,\n",
    "            stop_words=None,\n",
    "            sublinear_tf=True\n",
    "        )),\n",
    "        ('clf', MultinomialNB(alpha=0.1))\n",
    "    ])\n",
    "}\n"
   ]
  },
  {
   "cell_type": "code",
   "execution_count": 11,
   "id": "88ee481a",
   "metadata": {
    "execution": {
     "iopub.execute_input": "2025-10-05T16:39:42.935485Z",
     "iopub.status.busy": "2025-10-05T16:39:42.935385Z",
     "iopub.status.idle": "2025-10-05T16:40:37.078482Z",
     "shell.execute_reply": "2025-10-05T16:40:37.077704Z"
    }
   },
   "outputs": [
    {
     "name": "stderr",
     "output_type": "stream",
     "text": [
      "/Users/ivanmatveev/anaconda3/lib/python3.11/site-packages/sklearn/linear_model/_logistic.py:1247: FutureWarning: 'multi_class' was deprecated in version 1.5 and will be removed in 1.7. From then on, it will always use 'multinomial'. Leave it to its default value to avoid this warning.\n",
      "  warnings.warn(\n"
     ]
    },
    {
     "name": "stdout",
     "output_type": "stream",
     "text": [
      "LogReg: точность на валидации = 0.865\n",
      "LinearSVM: точность на валидации = 0.918\n",
      "MultinomialNB: точность на валидации = 0.548\n"
     ]
    }
   ],
   "source": [
    "val_scores = {}\n",
    "val_probabilities = {}\n",
    "trained_val_models = {}\n",
    "\n",
    "for name, pipe in pipelines.items():\n",
    "    model = clone(pipe)\n",
    "    if name == 'MultinomialNB':\n",
    "        X_train_in = train_df['combined_text']\n",
    "        X_val_in = val_df['combined_text']\n",
    "    else:\n",
    "        X_train_in = train_df.drop(columns=[target_col, 'text'])\n",
    "        X_val_in = val_df.drop(columns=[target_col, 'text'])\n",
    "    model.fit(X_train_in, train_df[target_col])\n",
    "    preds = model.predict(X_val_in)\n",
    "    acc = accuracy_score(val_df[target_col], preds)\n",
    "    val_scores[name] = acc\n",
    "    if hasattr(model, 'predict_proba'):\n",
    "        val_probabilities[name] = model.predict_proba(X_val_in)\n",
    "    trained_val_models[name] = model\n",
    "    print(f\"{name}: точность на валидации = {acc:.3f}\")"
   ]
  },
  {
   "cell_type": "code",
   "execution_count": 12,
   "id": "9718722d",
   "metadata": {
    "execution": {
     "iopub.execute_input": "2025-10-05T16:40:37.081965Z",
     "iopub.status.busy": "2025-10-05T16:40:37.081763Z",
     "iopub.status.idle": "2025-10-05T16:40:37.093628Z",
     "shell.execute_reply": "2025-10-05T16:40:37.093260Z"
    }
   },
   "outputs": [
    {
     "name": "stdout",
     "output_type": "stream",
     "text": [
      "Лучшие веса ансамбля (валидация): LogReg=0.00, SVM=1.00\n",
      "Точность ансамбля на валидации: 0.912\n"
     ]
    }
   ],
   "source": [
    "class_order = trained_val_models['LogReg'].classes_\n",
    "aligned_val_probs = {}\n",
    "for name, model in trained_val_models.items():\n",
    "    if name not in val_probabilities:\n",
    "        continue\n",
    "    model_classes = model.classes_\n",
    "    index_map = [np.where(model_classes == cls)[0][0] for cls in class_order]\n",
    "    aligned_val_probs[name] = val_probabilities[name][:, index_map]\n",
    "\n",
    "weight_grid = np.arange(0.0, 1.01, 0.1)\n",
    "best_weights = (1.0, 0.0)\n",
    "best_val_acc = val_scores['LogReg']\n",
    "\n",
    "if 'LogReg' in aligned_val_probs and 'LinearSVM' in aligned_val_probs:\n",
    "    for w_lr in weight_grid:\n",
    "        w_svm = 1 - w_lr\n",
    "        if w_svm < 0:\n",
    "            continue\n",
    "        weights = np.array([w_lr, w_svm])\n",
    "        combined = (weights[0] * aligned_val_probs['LogReg'] +\n",
    "                    weights[1] * aligned_val_probs['LinearSVM'])\n",
    "        ensemble_preds = class_order[np.argmax(combined, axis=1)]\n",
    "        acc = accuracy_score(val_df[target_col], ensemble_preds)\n",
    "        if acc > best_val_acc:\n",
    "            best_val_acc = acc\n",
    "            best_weights = (weights[0], weights[1])\n",
    "print(f\"Лучшие веса ансамбля (валидация): LogReg={best_weights[0]:.2f}, SVM={best_weights[1]:.2f}\")\n",
    "print(f\"Точность ансамбля на валидации: {best_val_acc:.3f}\")"
   ]
  },
  {
   "cell_type": "code",
   "execution_count": 13,
   "id": "80dc4a58",
   "metadata": {
    "execution": {
     "iopub.execute_input": "2025-10-05T16:40:37.095423Z",
     "iopub.status.busy": "2025-10-05T16:40:37.095256Z",
     "iopub.status.idle": "2025-10-05T16:41:53.072640Z",
     "shell.execute_reply": "2025-10-05T16:41:53.065696Z"
    }
   },
   "outputs": [
    {
     "name": "stderr",
     "output_type": "stream",
     "text": [
      "/Users/ivanmatveev/anaconda3/lib/python3.11/site-packages/sklearn/linear_model/_logistic.py:1247: FutureWarning: 'multi_class' was deprecated in version 1.5 and will be removed in 1.7. From then on, it will always use 'multinomial'. Leave it to its default value to avoid this warning.\n",
      "  warnings.warn(\n"
     ]
    }
   ],
   "source": [
    "final_models = {}\n",
    "for name, pipe in pipelines.items():\n",
    "    model = clone(pipe)\n",
    "    if name == 'MultinomialNB':\n",
    "        X_train_in = train_full['combined_text']\n",
    "    else:\n",
    "        X_train_in = train_full.drop(columns=[target_col, 'text'])\n",
    "    model.fit(X_train_in, train_full[target_col])\n",
    "    final_models[name] = model\n",
    "\n",
    "test_labels = test_df[target_col]"
   ]
  },
  {
   "cell_type": "code",
   "execution_count": 14,
   "id": "4a061eef",
   "metadata": {
    "execution": {
     "iopub.execute_input": "2025-10-05T16:41:53.079716Z",
     "iopub.status.busy": "2025-10-05T16:41:53.079514Z",
     "iopub.status.idle": "2025-10-05T16:41:58.602177Z",
     "shell.execute_reply": "2025-10-05T16:41:58.601566Z"
    }
   },
   "outputs": [
    {
     "data": {
      "text/html": [
       "<div>\n",
       "<style scoped>\n",
       "    .dataframe tbody tr th:only-of-type {\n",
       "        vertical-align: middle;\n",
       "    }\n",
       "\n",
       "    .dataframe tbody tr th {\n",
       "        vertical-align: top;\n",
       "    }\n",
       "\n",
       "    .dataframe thead th {\n",
       "        text-align: right;\n",
       "    }\n",
       "</style>\n",
       "<table border=\"1\" class=\"dataframe\">\n",
       "  <thead>\n",
       "    <tr style=\"text-align: right;\">\n",
       "      <th></th>\n",
       "      <th>model</th>\n",
       "      <th>accuracy</th>\n",
       "    </tr>\n",
       "  </thead>\n",
       "  <tbody>\n",
       "    <tr>\n",
       "      <th>0</th>\n",
       "      <td>Ensemble (LR=0.00, SVM=1.00)</td>\n",
       "      <td>0.903756</td>\n",
       "    </tr>\n",
       "    <tr>\n",
       "      <th>1</th>\n",
       "      <td>LinearSVM</td>\n",
       "      <td>0.892019</td>\n",
       "    </tr>\n",
       "    <tr>\n",
       "      <th>2</th>\n",
       "      <td>LogReg</td>\n",
       "      <td>0.866197</td>\n",
       "    </tr>\n",
       "    <tr>\n",
       "      <th>3</th>\n",
       "      <td>MultinomialNB</td>\n",
       "      <td>0.572770</td>\n",
       "    </tr>\n",
       "  </tbody>\n",
       "</table>\n",
       "</div>"
      ],
      "text/plain": [
       "                          model  accuracy\n",
       "0  Ensemble (LR=0.00, SVM=1.00)  0.903756\n",
       "1                     LinearSVM  0.892019\n",
       "2                        LogReg  0.866197\n",
       "3                 MultinomialNB  0.572770"
      ]
     },
     "execution_count": 14,
     "metadata": {},
     "output_type": "execute_result"
    }
   ],
   "source": [
    "test_metrics = []\n",
    "reports = {}\n",
    "for name, model in final_models.items():\n",
    "    if name == 'MultinomialNB':\n",
    "        X_test_in = test_df['combined_text']\n",
    "    else:\n",
    "        X_test_in = test_df.drop(columns=[target_col, 'text'])\n",
    "    preds = model.predict(X_test_in)\n",
    "    acc = accuracy_score(test_labels, preds)\n",
    "    test_metrics.append({'model': name, 'accuracy': acc})\n",
    "    reports[name] = classification_report(test_labels, preds, output_dict=True)\n",
    "\n",
    "if 'LogReg' in final_models and 'LinearSVM' in final_models:\n",
    "    lr_probs = final_models['LogReg'].predict_proba(test_df.drop(columns=[target_col, 'text']))\n",
    "    svm_probs = final_models['LinearSVM'].predict_proba(test_df.drop(columns=[target_col, 'text']))\n",
    "    class_order = final_models['LogReg'].classes_\n",
    "    ensemble_prob = best_weights[0] * lr_probs + best_weights[1] * svm_probs\n",
    "    ensemble_preds = class_order[np.argmax(ensemble_prob, axis=1)]\n",
    "    ensemble_acc = accuracy_score(test_labels, ensemble_preds)\n",
    "    test_metrics.append({\n",
    "        'model': \"Ensemble (LR={:.2f}, SVM={:.2f})\".format(best_weights[0], best_weights[1]),\n",
    "        'accuracy': ensemble_acc\n",
    "    })\n",
    "    reports['Ensemble'] = classification_report(test_labels, ensemble_preds, output_dict=True)\n",
    "else:\n",
    "    ensemble_preds = None\n",
    "    ensemble_prob = None\n",
    "\n",
    "metrics_df = pd.DataFrame(test_metrics).sort_values('accuracy', ascending=False).reset_index(drop=True)\n",
    "metrics_df"
   ]
  },
  {
   "cell_type": "code",
   "execution_count": 15,
   "id": "35d657f3",
   "metadata": {
    "execution": {
     "iopub.execute_input": "2025-10-05T16:41:58.607105Z",
     "iopub.status.busy": "2025-10-05T16:41:58.606930Z",
     "iopub.status.idle": "2025-10-05T16:41:58.615750Z",
     "shell.execute_reply": "2025-10-05T16:41:58.615371Z"
    }
   },
   "outputs": [
    {
     "data": {
      "text/html": [
       "<div>\n",
       "<style scoped>\n",
       "    .dataframe tbody tr th:only-of-type {\n",
       "        vertical-align: middle;\n",
       "    }\n",
       "\n",
       "    .dataframe tbody tr th {\n",
       "        vertical-align: top;\n",
       "    }\n",
       "\n",
       "    .dataframe thead th {\n",
       "        text-align: right;\n",
       "    }\n",
       "</style>\n",
       "<table border=\"1\" class=\"dataframe\">\n",
       "  <thead>\n",
       "    <tr style=\"text-align: right;\">\n",
       "      <th></th>\n",
       "      <th>precision</th>\n",
       "      <th>recall</th>\n",
       "      <th>f1-score</th>\n",
       "      <th>support</th>\n",
       "    </tr>\n",
       "  </thead>\n",
       "  <tbody>\n",
       "    <tr>\n",
       "      <th>Easy</th>\n",
       "      <td>0.899</td>\n",
       "      <td>0.924</td>\n",
       "      <td>0.911</td>\n",
       "      <td>144.000</td>\n",
       "    </tr>\n",
       "    <tr>\n",
       "      <th>Hard</th>\n",
       "      <td>0.899</td>\n",
       "      <td>0.880</td>\n",
       "      <td>0.890</td>\n",
       "      <td>142.000</td>\n",
       "    </tr>\n",
       "    <tr>\n",
       "      <th>Medium</th>\n",
       "      <td>0.799</td>\n",
       "      <td>0.793</td>\n",
       "      <td>0.796</td>\n",
       "      <td>140.000</td>\n",
       "    </tr>\n",
       "    <tr>\n",
       "      <th>accuracy</th>\n",
       "      <td>0.866</td>\n",
       "      <td>0.866</td>\n",
       "      <td>0.866</td>\n",
       "      <td>0.866</td>\n",
       "    </tr>\n",
       "    <tr>\n",
       "      <th>macro avg</th>\n",
       "      <td>0.865</td>\n",
       "      <td>0.866</td>\n",
       "      <td>0.865</td>\n",
       "      <td>426.000</td>\n",
       "    </tr>\n",
       "    <tr>\n",
       "      <th>weighted avg</th>\n",
       "      <td>0.866</td>\n",
       "      <td>0.866</td>\n",
       "      <td>0.866</td>\n",
       "      <td>426.000</td>\n",
       "    </tr>\n",
       "  </tbody>\n",
       "</table>\n",
       "</div>"
      ],
      "text/plain": [
       "              precision  recall  f1-score  support\n",
       "Easy              0.899   0.924     0.911  144.000\n",
       "Hard              0.899   0.880     0.890  142.000\n",
       "Medium            0.799   0.793     0.796  140.000\n",
       "accuracy          0.866   0.866     0.866    0.866\n",
       "macro avg         0.865   0.866     0.865  426.000\n",
       "weighted avg      0.866   0.866     0.866  426.000"
      ]
     },
     "execution_count": 15,
     "metadata": {},
     "output_type": "execute_result"
    }
   ],
   "source": [
    "logreg_report = pd.DataFrame(reports['LogReg']).transpose().round(3)\n",
    "logreg_report"
   ]
  },
  {
   "cell_type": "code",
   "execution_count": 16,
   "id": "6959484d",
   "metadata": {
    "execution": {
     "iopub.execute_input": "2025-10-05T16:41:58.618416Z",
     "iopub.status.busy": "2025-10-05T16:41:58.618246Z",
     "iopub.status.idle": "2025-10-05T16:41:58.622292Z",
     "shell.execute_reply": "2025-10-05T16:41:58.621949Z"
    }
   },
   "outputs": [],
   "source": [
    "if 'Ensemble' in reports:\n",
    "    ensemble_report = pd.DataFrame(reports['Ensemble']).transpose().round(3)\n",
    "    ensemble_report\n",
    "else:\n",
    "    'Ансамбль не сформирован'"
   ]
  },
  {
   "cell_type": "code",
   "execution_count": 17,
   "id": "41f1ccc5",
   "metadata": {
    "execution": {
     "iopub.execute_input": "2025-10-05T16:41:58.624024Z",
     "iopub.status.busy": "2025-10-05T16:41:58.623903Z",
     "iopub.status.idle": "2025-10-05T16:41:58.801753Z",
     "shell.execute_reply": "2025-10-05T16:41:58.800920Z"
    }
   },
   "outputs": [
    {
     "data": {
      "image/png": "[encoded data removed]",
      "text/plain": [
       "<Figure size 500x400 with 2 Axes>"
      ]
     },
     "metadata": {},
     "output_type": "display_data"
    }
   ],
   "source": [
    "if 'Ensemble' in reports:\n",
    "    cm = confusion_matrix(test_labels, ensemble_preds, labels=class_order)\n",
    "    cm_df = pd.DataFrame(cm, index=class_order, columns=class_order)\n",
    "    fig, ax = plt.subplots(figsize=(5, 4))\n",
    "    sns.heatmap(cm_df, annot=True, fmt='d', cmap='Blues', ax=ax)\n",
    "    ax.set_title('Матрица ошибок (ансамбль)')\n",
    "    ax.set_xlabel('Предсказано')\n",
    "    ax.set_ylabel('Истинно')\n",
    "    plt.tight_layout()\n",
    "    plt.show()\n",
    "    cm_df"
   ]
  },
  {
   "cell_type": "code",
   "execution_count": 18,
   "id": "69c848df",
   "metadata": {
    "execution": {
     "iopub.execute_input": "2025-10-05T16:41:58.804778Z",
     "iopub.status.busy": "2025-10-05T16:41:58.804536Z",
     "iopub.status.idle": "2025-10-05T16:42:01.420529Z",
     "shell.execute_reply": "2025-10-05T16:42:01.419795Z"
    }
   },
   "outputs": [
    {
     "data": {
      "text/html": [
       "<div>\n",
       "<style scoped>\n",
       "    .dataframe tbody tr th:only-of-type {\n",
       "        vertical-align: middle;\n",
       "    }\n",
       "\n",
       "    .dataframe tbody tr th {\n",
       "        vertical-align: top;\n",
       "    }\n",
       "\n",
       "    .dataframe thead th {\n",
       "        text-align: right;\n",
       "    }\n",
       "</style>\n",
       "<table border=\"1\" class=\"dataframe\">\n",
       "  <thead>\n",
       "    <tr style=\"text-align: right;\">\n",
       "      <th></th>\n",
       "      <th>complexity</th>\n",
       "      <th>LogReg</th>\n",
       "      <th>LinearSVM</th>\n",
       "      <th>Ensemble</th>\n",
       "      <th>confidence</th>\n",
       "      <th>text</th>\n",
       "    </tr>\n",
       "  </thead>\n",
       "  <tbody>\n",
       "    <tr>\n",
       "      <th>418</th>\n",
       "      <td>Medium</td>\n",
       "      <td>Hard</td>\n",
       "      <td>Hard</td>\n",
       "      <td>Hard</td>\n",
       "      <td>0.981849</td>\n",
       "      <td>CSA chief who 'quit' still in job\\n\\nThe head ...</td>\n",
       "    </tr>\n",
       "    <tr>\n",
       "      <th>339</th>\n",
       "      <td>Medium</td>\n",
       "      <td>Easy</td>\n",
       "      <td>Easy</td>\n",
       "      <td>Easy</td>\n",
       "      <td>0.970489</td>\n",
       "      <td>Apple laptop is 'greatest gadget'\\n\\nThe Apple...</td>\n",
       "    </tr>\n",
       "    <tr>\n",
       "      <th>232</th>\n",
       "      <td>Medium</td>\n",
       "      <td>Easy</td>\n",
       "      <td>Easy</td>\n",
       "      <td>Easy</td>\n",
       "      <td>0.968808</td>\n",
       "      <td>Apple laptop is 'greatest gadget'\\n\\nThe Apple...</td>\n",
       "    </tr>\n",
       "    <tr>\n",
       "      <th>379</th>\n",
       "      <td>Hard</td>\n",
       "      <td>Medium</td>\n",
       "      <td>Medium</td>\n",
       "      <td>Medium</td>\n",
       "      <td>0.955257</td>\n",
       "      <td>Argentina closes $102.6bn debt swap\\n\\nArgenti...</td>\n",
       "    </tr>\n",
       "    <tr>\n",
       "      <th>0</th>\n",
       "      <td>Medium</td>\n",
       "      <td>Easy</td>\n",
       "      <td>Easy</td>\n",
       "      <td>Easy</td>\n",
       "      <td>0.944669</td>\n",
       "      <td>Fockers fuel festive film chart\\n\\nComedy Meet...</td>\n",
       "    </tr>\n",
       "    <tr>\n",
       "      <th>362</th>\n",
       "      <td>Medium</td>\n",
       "      <td>Hard</td>\n",
       "      <td>Hard</td>\n",
       "      <td>Hard</td>\n",
       "      <td>0.931866</td>\n",
       "      <td>Injury doubts beset Wales squad\\n\\nWales have ...</td>\n",
       "    </tr>\n",
       "    <tr>\n",
       "      <th>230</th>\n",
       "      <td>Hard</td>\n",
       "      <td>Medium</td>\n",
       "      <td>Medium</td>\n",
       "      <td>Medium</td>\n",
       "      <td>0.922772</td>\n",
       "      <td>Strachan turns down Pompey\\n\\nFormer Southampt...</td>\n",
       "    </tr>\n",
       "    <tr>\n",
       "      <th>190</th>\n",
       "      <td>Medium</td>\n",
       "      <td>Hard</td>\n",
       "      <td>Hard</td>\n",
       "      <td>Hard</td>\n",
       "      <td>0.912208</td>\n",
       "      <td>Lloyd's of London head chides FSA\\n\\nThe head ...</td>\n",
       "    </tr>\n",
       "    <tr>\n",
       "      <th>328</th>\n",
       "      <td>Hard</td>\n",
       "      <td>Medium</td>\n",
       "      <td>Medium</td>\n",
       "      <td>Medium</td>\n",
       "      <td>0.885607</td>\n",
       "      <td>Worldcom director ends evidence\\n\\nThe former ...</td>\n",
       "    </tr>\n",
       "    <tr>\n",
       "      <th>153</th>\n",
       "      <td>Easy</td>\n",
       "      <td>Medium</td>\n",
       "      <td>Medium</td>\n",
       "      <td>Medium</td>\n",
       "      <td>0.863211</td>\n",
       "      <td>Collins appeals against drugs ban\\n\\nSprinter ...</td>\n",
       "    </tr>\n",
       "  </tbody>\n",
       "</table>\n",
       "</div>"
      ],
      "text/plain": [
       "    complexity  LogReg LinearSVM Ensemble  confidence  \\\n",
       "418     Medium    Hard      Hard     Hard    0.981849   \n",
       "339     Medium    Easy      Easy     Easy    0.970489   \n",
       "232     Medium    Easy      Easy     Easy    0.968808   \n",
       "379       Hard  Medium    Medium   Medium    0.955257   \n",
       "0       Medium    Easy      Easy     Easy    0.944669   \n",
       "362     Medium    Hard      Hard     Hard    0.931866   \n",
       "230       Hard  Medium    Medium   Medium    0.922772   \n",
       "190     Medium    Hard      Hard     Hard    0.912208   \n",
       "328       Hard  Medium    Medium   Medium    0.885607   \n",
       "153       Easy  Medium    Medium   Medium    0.863211   \n",
       "\n",
       "                                                  text  \n",
       "418  CSA chief who 'quit' still in job\\n\\nThe head ...  \n",
       "339  Apple laptop is 'greatest gadget'\\n\\nThe Apple...  \n",
       "232  Apple laptop is 'greatest gadget'\\n\\nThe Apple...  \n",
       "379  Argentina closes $102.6bn debt swap\\n\\nArgenti...  \n",
       "0    Fockers fuel festive film chart\\n\\nComedy Meet...  \n",
       "362  Injury doubts beset Wales squad\\n\\nWales have ...  \n",
       "230  Strachan turns down Pompey\\n\\nFormer Southampt...  \n",
       "190  Lloyd's of London head chides FSA\\n\\nThe head ...  \n",
       "328  Worldcom director ends evidence\\n\\nThe former ...  \n",
       "153  Collins appeals against drugs ban\\n\\nSprinter ...  "
      ]
     },
     "execution_count": 18,
     "metadata": {},
     "output_type": "execute_result"
    }
   ],
   "source": [
    "analysis_df = test_df.copy().reset_index(drop=True)\n",
    "analysis_df['LogReg'] = final_models['LogReg'].predict(test_df.drop(columns=[target_col, 'text']))\n",
    "analysis_df['LinearSVM'] = final_models['LinearSVM'].predict(test_df.drop(columns=[target_col, 'text']))\n",
    "if 'Ensemble' in reports:\n",
    "    analysis_df['Ensemble'] = ensemble_preds\n",
    "    analysis_df['confidence'] = ensemble_prob.max(axis=1)\n",
    "else:\n",
    "    analysis_df['Ensemble'] = analysis_df['LogReg']\n",
    "    analysis_df['confidence'] = final_models['LogReg'].predict_proba(test_df.drop(columns=[target_col, 'text'])).max(axis=1)\n",
    "\n",
    "mistakes = analysis_df[analysis_df[target_col] != analysis_df['Ensemble']]\n",
    "mistakes.sort_values('confidence', ascending=False)[[target_col, 'LogReg', 'LinearSVM', 'Ensemble', 'confidence', 'text']].head(10)"
   ]
  },
  {
   "cell_type": "code",
   "execution_count": 19,
   "id": "74e4ea46",
   "metadata": {
    "execution": {
     "iopub.execute_input": "2025-10-05T16:42:01.424705Z",
     "iopub.status.busy": "2025-10-05T16:42:01.424531Z",
     "iopub.status.idle": "2025-10-05T16:42:01.447059Z",
     "shell.execute_reply": "2025-10-05T16:42:01.446721Z"
    }
   },
   "outputs": [
    {
     "data": {
      "text/html": [
       "<div>\n",
       "<style scoped>\n",
       "    .dataframe tbody tr th:only-of-type {\n",
       "        vertical-align: middle;\n",
       "    }\n",
       "\n",
       "    .dataframe tbody tr th {\n",
       "        vertical-align: top;\n",
       "    }\n",
       "\n",
       "    .dataframe thead th {\n",
       "        text-align: right;\n",
       "    }\n",
       "</style>\n",
       "<table border=\"1\" class=\"dataframe\">\n",
       "  <thead>\n",
       "    <tr style=\"text-align: right;\">\n",
       "      <th></th>\n",
       "      <th>complexity</th>\n",
       "      <th>text_id</th>\n",
       "      <th>audio_path</th>\n",
       "      <th>text</th>\n",
       "    </tr>\n",
       "  </thead>\n",
       "  <tbody>\n",
       "    <tr>\n",
       "      <th>0</th>\n",
       "      <td>Easy</td>\n",
       "      <td>761</td>\n",
       "      <td>tts_samples/easy_761.aiff</td>\n",
       "      <td>T in the Park sells out in days\\n\\nTickets for...</td>\n",
       "    </tr>\n",
       "    <tr>\n",
       "      <th>1</th>\n",
       "      <td>Easy</td>\n",
       "      <td>1295</td>\n",
       "      <td>tts_samples/easy_1295.aiff</td>\n",
       "      <td>Holmes secures comeback victory\\n\\nBritain's K...</td>\n",
       "    </tr>\n",
       "    <tr>\n",
       "      <th>2</th>\n",
       "      <td>Medium</td>\n",
       "      <td>2092</td>\n",
       "      <td>tts_samples/medium_2092.aiff</td>\n",
       "      <td>Have hackers recruited your PC?\\n\\nMore than o...</td>\n",
       "    </tr>\n",
       "    <tr>\n",
       "      <th>3</th>\n",
       "      <td>Medium</td>\n",
       "      <td>971</td>\n",
       "      <td>tts_samples/medium_971.aiff</td>\n",
       "      <td>Guantanamo man 'suing government'\\n\\nA British...</td>\n",
       "    </tr>\n",
       "    <tr>\n",
       "      <th>4</th>\n",
       "      <td>Hard</td>\n",
       "      <td>430</td>\n",
       "      <td>tts_samples/hard_430.aiff</td>\n",
       "      <td>China bans new tobacco factories\\n\\nThe world'...</td>\n",
       "    </tr>\n",
       "  </tbody>\n",
       "</table>\n",
       "</div>"
      ],
      "text/plain": [
       "  complexity  text_id                    audio_path  \\\n",
       "0       Easy      761     tts_samples/easy_761.aiff   \n",
       "1       Easy     1295    tts_samples/easy_1295.aiff   \n",
       "2     Medium     2092  tts_samples/medium_2092.aiff   \n",
       "3     Medium      971   tts_samples/medium_971.aiff   \n",
       "4       Hard      430     tts_samples/hard_430.aiff   \n",
       "\n",
       "                                                text  \n",
       "0  T in the Park sells out in days\\n\\nTickets for...  \n",
       "1  Holmes secures comeback victory\\n\\nBritain's K...  \n",
       "2  Have hackers recruited your PC?\\n\\nMore than o...  \n",
       "3  Guantanamo man 'suing government'\\n\\nA British...  \n",
       "4  China bans new tobacco factories\\n\\nThe world'...  "
      ]
     },
     "execution_count": 19,
     "metadata": {},
     "output_type": "execute_result"
    }
   ],
   "source": [
    "def generate_tts_samples(df_source, samples_per_class=3, output_dir=Path('tts_samples')):\n",
    "    output_dir.mkdir(parents=True, exist_ok=True)\n",
    "    metadata = []\n",
    "    for label in ['Easy', 'Medium', 'Hard']:\n",
    "        subset = df_source[df_source[target_col] == label]\n",
    "        sampled = subset.sample(n=min(samples_per_class, len(subset)), random_state=SEED)\n",
    "        for idx, row in sampled.iterrows():\n",
    "            filename = output_dir / f'{label.lower()}_{idx}.aiff'\n",
    "            text_to_say = row['text'].replace(\"'\", '')\n",
    "            if not filename.exists():\n",
    "                subprocess.run(['say', text_to_say, '-o', str(filename)], check=True)\n",
    "            metadata.append({\n",
    "                'complexity': label,\n",
    "                'text_id': int(idx),\n",
    "                'audio_path': str(filename),\n",
    "                'text': row['text'][:1000]\n",
    "            })\n",
    "    meta_df = pd.DataFrame(metadata)\n",
    "    meta_path = output_dir / 'tts_metadata.csv'\n",
    "    meta_df.to_csv(meta_path, index=False)\n",
    "    return meta_df\n",
    "\n",
    "tts_meta = generate_tts_samples(train_full, samples_per_class=2)\n",
    "tts_meta.head()"
   ]
  },
  {
   "cell_type": "markdown",
   "id": "06f233c4",
   "metadata": {},
   "source": [
    "### Использование аудио-данных\n",
    "- Файлы в папке `tts_samples/` — синтетические аудиоверсии текстов разных уровней сложности, что приближает задачу к классификации голосовых сообщений из Telegram.\n",
    "- Дальше можно применять ASR для автоматической транскрибации голосовых данных и повторно использовать обученный классификатор сложности.\n",
    "- Метаданные `tts_metadata.csv` сохраняют связь между audio и текстом для дальнейшего обучения или валидации."
   ]
  },
  {
   "cell_type": "markdown",
   "id": "e18c6afe",
   "metadata": {},
   "source": [
    "## Выводы\n",
    "- Уровни сложности определены по метрике Flesch: верхняя треть — Easy, нижняя треть — Hard, остальные — Medium.\n",
    "- Конвейер TF-IDF по объединённому тексту новости и summary плюс числовые признаки читаемости позволил добиться точности 90.4% для ансамбля (веса SVM=1.0), одиночный Linear SVM даёт ≈89.2%.\n",
    "- Логистическая регрессия остаётся интерпретируемой бенчмарком (≈86.6%), а Multinomial NB служит простым ориентиром.\n",
    "- Синтетические аудио (TTS) расширяют обучающий набор и готовят систему к работе с голосовыми сообщениями Telegram.\n",
    "- Анализ ошибок показывает, что пересечения тематики (особенно Medium ↔ Hard) остаются сложными — дальнейшее улучшение возможно через расширение признаков (POS/NER, char n-gram) и дообучение на реальных голосовых данных."
   ]
  },
  {
   "cell_type": "markdown",
   "id": "ca02de29",
   "metadata": {},
   "source": []
  }
 ],
 "metadata": {
  "language_info": {
   "codemirror_mode": {
    "name": "ipython",
    "version": 3
   },
   "file_extension": ".py",
   "mimetype": "text/x-python",
   "name": "python",
   "nbconvert_exporter": "python",
   "pygments_lexer": "ipython3",
   "version": "3.11.4"
  }
 },
 "nbformat": 4,
 "nbformat_minor": 5
}